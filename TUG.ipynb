{
 "cells": [
  {
   "cell_type": "markdown",
   "id": "40eb2a4f",
   "metadata": {},
   "source": [
    "# Optimal Portfolio Using Genetic Algorithm\n",
    "\n",
    "This notebook implements a genetic algorithm to identify the optimal portfolio based on stock returns, following the methodology described in `algo.md`."
   ]
  },
  {
   "cell_type": "markdown",
   "id": "04e5aa0f",
   "metadata": {},
   "source": [
    "## 1. Import Required Libraries\n",
    "\n",
    "We begin by importing the necessary libraries for data manipulation and genetic algorithm operations."
   ]
  },
  {
   "cell_type": "code",
   "execution_count": 2575,
   "id": "6910b6bc",
   "metadata": {},
   "outputs": [],
   "source": [
    "import numpy as np\n",
    "import pandas as pd\n",
    "import random\n",
    "import os\n",
    "from glob import glob\n",
    "import matplotlib.pyplot as plt"
   ]
  },
  {
   "cell_type": "markdown",
   "id": "24f8f315",
   "metadata": {},
   "source": [
    "## 2. Define Genetic Algorithm Parameters\n",
    "\n",
    "Set the key parameters for the genetic algorithm."
   ]
  },
  {
   "cell_type": "code",
   "execution_count": 2576,
   "id": "08d6f26f",
   "metadata": {},
   "outputs": [],
   "source": [
    "# Genetic Algorithm Parameters\n",
    "POP_SIZE = 52                # Number of portfolios in the population\n",
    "CHROMOSOME_LENGTH = 99      # Number of stocks (genes per portfolio)\n",
    "MUTATION_RATE = 0.02         # Probability of mutation per individual\n",
    "NUM_GENERATIONS = 200        # Maximum number of generations\n",
    "DELTA_THRESHOLD = 1e-16       # Minimum improvement threshold to stop"
   ]
  },
  {
   "cell_type": "markdown",
   "id": "6d20e59b",
   "metadata": {},
   "source": [
    "## 3. Load and Prepare Stock Returns Data\n",
    "\n",
    "Load monthly returns data from CSV files in `/data/kse100`. Aggregate returns into a single DataFrame, ensuring each stock has monthly returns for the required periods."
   ]
  },
  {
   "cell_type": "code",
   "execution_count": 2577,
   "id": "1a331fd3",
   "metadata": {},
   "outputs": [],
   "source": [
    "# # Directory containing stock CSV files\n",
    "# DATA_DIR = \"e:/shahmir/dev/exp/data/kse100\"\n",
    "\n",
    "# def get_monthly_returns(file_path):\n",
    "#     df = pd.read_csv(file_path, parse_dates=['Date'], date_format='%m/%d/%y')\n",
    "#     df = df[['Date', ' Close']]\n",
    "#     df.rename(columns={' Close': 'Close'}, inplace=True)\n",
    "#     df['YearMonth'] = df['Date'].dt.to_period('M')\n",
    "#     monthly_df = df.groupby('YearMonth').agg({'Close': 'first'}).reset_index()\n",
    "    \n",
    "#     # NEW: Fill missing months with previous closing values\n",
    "#     monthly_df = fill_missing_months(monthly_df)\n",
    "    \n",
    "#     monthly_df['Return'] = monthly_df['Close'].pct_change()\n",
    "#     returns = monthly_df['Return'].iloc[1:].values  # Skip first NaN\n",
    "\n",
    "#     # Pad returns to 60 months\n",
    "#     if len(returns) < 60:\n",
    "#         # Determine if missing months are at the start or end\n",
    "#         min_month = pd.Period('2020-07', freq='M')\n",
    "#         max_month = pd.Period('2025-07', freq='M')\n",
    "#         stock_start = monthly_df['YearMonth'].iloc[0]\n",
    "#         stock_end = monthly_df['YearMonth'].iloc[-1]\n",
    "\n",
    "#         # Calculate how many months to pad before and after\n",
    "#         pad_before = (stock_start - min_month).n\n",
    "#         pad_after = (max_month - stock_end).n\n",
    "\n",
    "#         returns_padded = np.concatenate([\n",
    "#             np.zeros(pad_before),\n",
    "#             returns,\n",
    "#             np.zeros(pad_after)\n",
    "#         ])\n",
    "#         return returns_padded\n",
    "#     else:\n",
    "#         return returns\n",
    "\n",
    "# def fill_missing_months(monthly_df):\n",
    "#     \"\"\"\n",
    "#     Fill missing months with the previous month's closing value.\n",
    "    \n",
    "#     Args:\n",
    "#         monthly_df: DataFrame with 'YearMonth' and 'Close' columns\n",
    "        \n",
    "#     Returns:\n",
    "#         DataFrame with missing months filled\n",
    "#     \"\"\"\n",
    "#     if len(monthly_df) == 0:\n",
    "#         return monthly_df\n",
    "    \n",
    "#     # Create a complete date range from first to last month\n",
    "#     start_month = monthly_df['YearMonth'].min()\n",
    "#     end_month = monthly_df['YearMonth'].max()\n",
    "    \n",
    "#     # Generate all months in the range\n",
    "#     all_months = pd.period_range(start=start_month, end=end_month, freq='M')\n",
    "    \n",
    "#     # Create DataFrame with all months\n",
    "#     complete_df = pd.DataFrame({'YearMonth': all_months})\n",
    "    \n",
    "#     # Merge with original data (left join keeps all months)\n",
    "#     filled_df = complete_df.merge(monthly_df, on='YearMonth', how='left')\n",
    "    \n",
    "#     # Forward fill the Close prices for missing months\n",
    "#     filled_df['Close'] = filled_df['Close'].ffill()\n",
    "    \n",
    "#     return filled_df\n",
    "\n",
    "# # Get data from CSV if it exists, else aggregate data and export to CSV\n",
    "# returns_csv = 'e:/shahmir/dev/exp/returns.csv'\n",
    "\n",
    "# if os.path.exists(returns_csv):\n",
    "#     returns_df = pd.read_csv(returns_csv, index_col='stock')\n",
    "#     returns_matrix = np.array(returns_df)\n",
    "# else:\n",
    "#     # Aggregate returns for all stocks\n",
    "#     stock_files = sorted(glob(os.path.join(DATA_DIR, \"*.csv\")))\n",
    "#     returns_list = []\n",
    "#     stock_names = []\n",
    "\n",
    "#     for file in stock_files:\n",
    "#         returns = get_monthly_returns(file)\n",
    "#         returns_list.append(returns)\n",
    "#         stock_names.append(os.path.basename(file).replace('.csv', ''))\n",
    "#         # ---\n",
    "#         if len(returns) != 60:\n",
    "#             print(os.path.basename(file)); print(len(returns))\n",
    "\n",
    "#     returns_matrix = np.array(returns_list)  # Shape: (num_stocks, 60)\n",
    "#     returns_df = pd.DataFrame(returns_matrix, index=stock_names)\n",
    "#     # CHROMOSOME_LENGTH = returns_df.shape[0]  # Update if less than 100 stocks available\n",
    "\n",
    "#     print(f\"Loaded returns for {returns_df.shape[0]} stocks over {returns_df.shape[1]} months.\")\n",
    "#     returns_df.to_csv(returns_csv, index_label='stock')"
   ]
  },
  {
   "cell_type": "code",
   "execution_count": 2578,
   "id": "823033d6",
   "metadata": {},
   "outputs": [],
   "source": [
    "returns_csv = 'e:/shahmir/dev/exp/returns.csv'\n",
    "returns_df = pd.read_csv(returns_csv, index_col='stock')\n",
    "# returns_matrix = np.array(returns_df)"
   ]
  },
  {
   "cell_type": "code",
   "execution_count": 2579,
   "id": "93e63910",
   "metadata": {},
   "outputs": [],
   "source": [
    "# Remove UPFL index from returns_df\n",
    "returns_df = returns_df.loc[returns_df.index != 'UPFL']\n",
    "returns_matrix = np.array(returns_df)"
   ]
  },
  {
   "cell_type": "markdown",
   "id": "2d65fcc3",
   "metadata": {},
   "source": [
    "## 4. Initialize Population\n",
    "\n",
    "Create an initial population as a 2D numpy array of shape `(POP_SIZE, CHROMOSOME_LENGTH)`, with each individual's weights summing to 1.00 and only positive weights."
   ]
  },
  {
   "cell_type": "code",
   "execution_count": 2580,
   "id": "30d108f4",
   "metadata": {},
   "outputs": [
    {
     "name": "stdout",
     "output_type": "stream",
     "text": [
      "Initial population shape: (52, 99)\n"
     ]
    }
   ],
   "source": [
    "def initialize_population(pop_size, chromosome_length):\n",
    "    population = []\n",
    "    for i in range(pop_size):\n",
    "        weights = np.zeros(chromosome_length)\n",
    "        # Calculate flow position\n",
    "        pos = i / (pop_size - 1)\n",
    "        \n",
    "        for j in range(chromosome_length):\n",
    "            distance_from_peak = abs(j - pos * (chromosome_length - 1))\n",
    "            if distance_from_peak == 0:\n",
    "                weights[j] = 1.0  # Start with 1, will be normalized\n",
    "            else:\n",
    "                # Geometric decay: each step away is half the previous\n",
    "                weights[j] = 0.9 ** distance_from_peak\n",
    "        \n",
    "        weights /= weights.sum()  # Normalize to sum to 1\n",
    "        population.append(weights)\n",
    "    \n",
    "    population = np.array(population)\n",
    "    return population\n",
    "\n",
    "population = initialize_population(POP_SIZE, CHROMOSOME_LENGTH)\n",
    "print(\"Initial population shape:\", population.shape)"
   ]
  },
  {
   "cell_type": "markdown",
   "id": "b94fde56",
   "metadata": {},
   "source": [
    "## 5. Calculate Portfolio Fitness\n",
    "\n",
    "Implement the fitness function: for each portfolio, compute weighted returns, calculate average and standard deviation for two periods, and combine them into a single fitness score."
   ]
  },
  {
   "cell_type": "code",
   "execution_count": 2581,
   "id": "b135336d",
   "metadata": {},
   "outputs": [
    {
     "name": "stdout",
     "output_type": "stream",
     "text": [
      "Sample fitness scores: [0.43121118 0.42751831 0.40911126 0.39833423 0.38917305]\n"
     ]
    }
   ],
   "source": [
    "def portfolio_fitness(weights, returns_matrix):\n",
    "    # Periods: 0:24 (stagnant), 36:48 (growth)\n",
    "    periods = [(0, 24), (36, 48)]\n",
    "    scores = []\n",
    "    for start, end in periods:\n",
    "        period_returns = returns_matrix[:, start:end]  # shape: (stocks, months)\n",
    "        weighted_returns = np.dot(weights, period_returns)  # shape: (months,)\n",
    "        avg = np.mean(weighted_returns)\n",
    "        std = np.std(weighted_returns, mean=avg) # , ddof=1\n",
    "        score = avg / std if std > 0.01 else 0\n",
    "        scores.append(score)\n",
    "    # Weighted sum: 0.4 * first period + 0.6 * second period\n",
    "    fitness = 0.4 * scores[0] + 0.6 * scores[1]\n",
    "    return fitness\n",
    "\n",
    "def evaluate_population(population, returns_matrix):\n",
    "    return np.array([portfolio_fitness(ind, returns_matrix) for ind in population])\n",
    "\n",
    "fitness_scores = evaluate_population(population, returns_matrix)\n",
    "print(\"Sample fitness scores:\", fitness_scores[:5])"
   ]
  },
  {
   "cell_type": "markdown",
   "id": "c99752e5",
   "metadata": {},
   "source": [
    "## 6. Parent Selection (Tournament)\n",
    "\n",
    "Select half of the population as parents using tournament selection based on fitness scores."
   ]
  },
  {
   "cell_type": "code",
   "execution_count": 2582,
   "id": "a48f9472",
   "metadata": {},
   "outputs": [
    {
     "name": "stdout",
     "output_type": "stream",
     "text": [
      "Selected parents shape: (26, 99)\n"
     ]
    }
   ],
   "source": [
    "def tournament_selection(population, fitness_scores, num_parents, tournament_size=2):\n",
    "    selected = []\n",
    "    for _ in range(num_parents):\n",
    "        indices = np.random.choice(len(population), tournament_size, replace=False)\n",
    "        best_idx = indices[np.argmax(fitness_scores[indices])]\n",
    "        selected.append(population[best_idx])\n",
    "    return np.array(selected)\n",
    "\n",
    "num_parents = POP_SIZE // 2\n",
    "parents = tournament_selection(population, fitness_scores, num_parents)\n",
    "print(\"Selected parents shape:\", parents.shape)"
   ]
  },
  {
   "cell_type": "markdown",
   "id": "362515ff",
   "metadata": {},
   "source": [
    "## 7. Crossover Operation\n",
    "\n",
    "For each pair of parents, perform crossover at a random point, combine weights, and normalize to produce two children."
   ]
  },
  {
   "cell_type": "code",
   "execution_count": 2583,
   "id": "c89eaef7",
   "metadata": {},
   "outputs": [
    {
     "name": "stdout",
     "output_type": "stream",
     "text": [
      "Generated offspring shape: (26, 99)\n"
     ]
    }
   ],
   "source": [
    "def crossover(parent1, parent2):\n",
    "    c = random.uniform(0.0, 1.0)\n",
    "    idx = int(c * CHROMOSOME_LENGTH)\n",
    "    child1 = np.concatenate([parent1[:idx], parent2[idx:]])\n",
    "    child2 = np.concatenate([parent2[:idx], parent1[idx:]])\n",
    "    # Normalize weights\n",
    "    child1 /= child1.sum()\n",
    "    child2 /= child2.sum()\n",
    "    return child1, child2\n",
    "\n",
    "def generate_offspring(parents):\n",
    "    offspring = []\n",
    "    parent_indices = np.random.permutation(len(parents))\n",
    "    for i in range(0, len(parent_indices), 2):\n",
    "        p1 = parents[parent_indices[i]]\n",
    "        p2 = parents[parent_indices[(i+1)]]\n",
    "        child1, child2 = crossover(p1, p2)\n",
    "        offspring.extend([child1, child2])\n",
    "    return np.array(offspring)\n",
    "\n",
    "offspring = generate_offspring(parents)\n",
    "print(\"Generated offspring shape:\", offspring.shape)"
   ]
  },
  {
   "cell_type": "markdown",
   "id": "61abd806",
   "metadata": {},
   "source": [
    "## 8. Mutation Operation\n",
    "\n",
    "Apply mutation to the population: with probability `MUTATION_RATE`, halve a random weight in an individual and normalize the weights."
   ]
  },
  {
   "cell_type": "code",
   "execution_count": 2584,
   "id": "85e8beb6",
   "metadata": {},
   "outputs": [
    {
     "name": "stdout",
     "output_type": "stream",
     "text": [
      "Mutation applied to offspring.\n"
     ]
    }
   ],
   "source": [
    "def mutate_population(population, mutation_rate):\n",
    "    for ind in population:\n",
    "        if random.random() < mutation_rate:\n",
    "            idx = random.randint(0, CHROMOSOME_LENGTH - 1)\n",
    "            ind[idx] *= 0.5\n",
    "            ind[ind < 0] = 0\n",
    "            ind /= ind.sum()\n",
    "    return population\n",
    "\n",
    "mutated_offspring = mutate_population(offspring.copy(), MUTATION_RATE)\n",
    "print(\"Mutation applied to offspring.\")"
   ]
  },
  {
   "cell_type": "markdown",
   "id": "9e95ddc8",
   "metadata": {},
   "source": [
    "## 9. Run Genetic Algorithm Loop\n",
    "\n",
    "Iterate through generations, performing selection, crossover, mutation, and population update. Track best fitness and stop if delta is below threshold or max generations reached."
   ]
  },
  {
   "cell_type": "code",
   "execution_count": 2585,
   "id": "c0fb15f7",
   "metadata": {},
   "outputs": [
    {
     "name": "stdout",
     "output_type": "stream",
     "text": [
      "Genetic algorithm completed.\n"
     ]
    }
   ],
   "source": [
    "best_fitness_history = []\n",
    "best_portfolio = None\n",
    "best_fitness = -np.inf\n",
    "\n",
    "population = initialize_population(POP_SIZE, CHROMOSOME_LENGTH)\n",
    "for gen in range(NUM_GENERATIONS):\n",
    "    fitness_scores = evaluate_population(population, returns_matrix)\n",
    "    gen_best_idx = np.argmax(fitness_scores)\n",
    "    gen_best_fitness = fitness_scores[gen_best_idx]\n",
    "    best_fitness_history.append(gen_best_fitness)\n",
    "    if gen_best_fitness > best_fitness:\n",
    "        best_fitness = gen_best_fitness\n",
    "        best_portfolio = population[gen_best_idx].copy()\n",
    "    # # Check for convergence\n",
    "    # if gen > 5 and abs(best_fitness_history[-1] - best_fitness_history[-2]) < DELTA_THRESHOLD:\n",
    "    #     print(f\"Converged at generation {gen}.\")\n",
    "    #     break\n",
    "    # Selection (Tournament)\n",
    "    parents = tournament_selection(population, fitness_scores, POP_SIZE // 2)\n",
    "    # Crossover\n",
    "    offspring = generate_offspring(parents)\n",
    "    # Mutation\n",
    "    mutated_offspring = mutate_population(offspring.copy(), MUTATION_RATE)\n",
    "    # New population: combine parents and mutated offspring\n",
    "    population = np.vstack([parents, mutated_offspring])\n",
    "\n",
    "print(\"Genetic algorithm completed.\")"
   ]
  },
  {
   "cell_type": "markdown",
   "id": "863745b7",
   "metadata": {},
   "source": [
    "## 10. Output Best Portfolio and Performance\n",
    "\n",
    "Display the best portfolio's weights and its fitness score. Optionally, visualize the portfolio allocation."
   ]
  },
  {
   "cell_type": "code",
   "execution_count": 2586,
   "id": "7676e414",
   "metadata": {},
   "outputs": [
    {
     "name": "stdout",
     "output_type": "stream",
     "text": [
      "Best portfolio fitness score: 0.5947839507840273\n",
      "Top 10 stock allocations:\n",
      "stock\n",
      "AGL      0.063472\n",
      "SCBPL    0.061481\n",
      "SAZEW    0.056684\n",
      "SRVI     0.052090\n",
      "ABL      0.050979\n",
      "RMPL     0.050957\n",
      "SYS      0.049874\n",
      "SNGP     0.046772\n",
      "PTC      0.045828\n",
      "PSX      0.041246\n",
      "dtype: float64\n"
     ]
    },
    {
     "data": {
      "image/png": "[encoded data removed]",
      "text/plain": [
       "<Figure size 1000x600 with 1 Axes>"
      ]
     },
     "metadata": {},
     "output_type": "display_data"
    }
   ],
   "source": [
    "# Display best portfolio weights and fitness\n",
    "print(\"Best portfolio fitness score:\", best_fitness)\n",
    "best_weights = pd.Series(best_portfolio, index=returns_df.index)\n",
    "top_stocks = best_weights.sort_values(ascending=False).head(10)\n",
    "print(\"Top 10 stock allocations:\")\n",
    "print(top_stocks)\n",
    "\n",
    "# Visualize allocation\n",
    "plt.figure(figsize=(10,6))\n",
    "top_stocks.plot(kind='bar')\n",
    "plt.title(\"Top 10 Stock Allocations in Best Portfolio\")\n",
    "plt.ylabel(\"Weight\")\n",
    "plt.xlabel(\"Stock\")\n",
    "plt.show()"
   ]
  },
  {
   "cell_type": "code",
   "execution_count": 2587,
   "id": "01f82ff6",
   "metadata": {},
   "outputs": [],
   "source": [
    "# best_fitness_history = []\n",
    "# best_portfolio = None\n",
    "# best_fitness = -np.inf\n",
    "\n",
    "# population = initialize_population(POP_SIZE, CHROMOSOME_LENGTH)\n",
    "# for gen in range(NUM_GENERATIONS):\n",
    "#     fitness_scores = evaluate_population(population, returns_matrix)\n",
    "#     gen_best_idx = np.argmax(fitness_scores)\n",
    "#     gen_best_fitness = fitness_scores[gen_best_idx]\n",
    "#     best_fitness_history.append(gen_best_fitness)\n",
    "#     if gen_best_fitness > best_fitness:\n",
    "#         best_fitness = gen_best_fitness\n",
    "#         best_portfolio = population[gen_best_idx].copy()\n",
    "#     # # Check for convergence\n",
    "#     # if gen > 5 and abs(best_fitness_history[-1] - best_fitness_history[-2]) < DELTA_THRESHOLD:\n",
    "#     #     print(f\"Converged at generation {gen}.\")\n",
    "#     #     break\n",
    "#     # Selection\n",
    "#     parents = tournament_selection(population, fitness_scores, POP_SIZE // 2)\n",
    "#     # Crossover\n",
    "#     offspring = generate_offspring(parents)\n",
    "#     # Mutation\n",
    "#     mutated_offspring = mutate_population(offspring.copy(), MUTATION_RATE)\n",
    "#     # New population: combine parents and mutated offspring\n",
    "#     population = np.vstack([parents, mutated_offspring])\n",
    "\n",
    "# print(\"Genetic algorithm completed.\")"
   ]
  },
  {
   "cell_type": "code",
   "execution_count": 2588,
   "id": "cdac941b",
   "metadata": {},
   "outputs": [
    {
     "data": {
      "text/plain": [
       "[<matplotlib.lines.Line2D at 0x1975198a5d0>]"
      ]
     },
     "execution_count": 2588,
     "metadata": {},
     "output_type": "execute_result"
    },
    {
     "data": {
      "image/png": "[encoded data removed]",
      "text/plain": [
       "<Figure size 640x480 with 1 Axes>"
      ]
     },
     "metadata": {},
     "output_type": "display_data"
    }
   ],
   "source": [
    "plt.plot(best_fitness_history)"
   ]
  },
  {
   "cell_type": "code",
   "execution_count": 2589,
   "id": "42b1d888",
   "metadata": {},
   "outputs": [
    {
     "name": "stdout",
     "output_type": "stream",
     "text": [
      "0.5947839507840273\n"
     ]
    }
   ],
   "source": [
    "print(best_fitness)"
   ]
  },
  {
   "cell_type": "code",
   "execution_count": 2590,
   "id": "ca53ba2c",
   "metadata": {},
   "outputs": [],
   "source": [
    "best_weights[best_weights < 0.005] = 0"
   ]
  },
  {
   "cell_type": "code",
   "execution_count": 2591,
   "id": "31413e56",
   "metadata": {},
   "outputs": [],
   "source": [
    "best_weights /= best_weights.sum()"
   ]
  },
  {
   "cell_type": "code",
   "execution_count": 2592,
   "id": "ceeb897d",
   "metadata": {},
   "outputs": [],
   "source": [
    "best_weights.sort_values(ascending=False).to_csv(\"portfolio_tournament_unsorted.csv\")"
   ]
  }
 ],
 "metadata": {
  "kernelspec": {
   "display_name": ".venv (3.13.7)",
   "language": "python",
   "name": "python3"
  },
  "language_info": {
   "codemirror_mode": {
    "name": "ipython",
    "version": 3
   },
   "file_extension": ".py",
   "mimetype": "text/x-python",
   "name": "python",
   "nbconvert_exporter": "python",
   "pygments_lexer": "ipython3",
   "version": "3.13.7"
  }
 },
 "nbformat": 4,
 "nbformat_minor": 5
}
