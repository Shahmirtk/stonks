{
 "cells": [
  {
   "cell_type": "code",
   "execution_count": 316,
   "id": "b20447c4",
   "metadata": {},
   "outputs": [],
   "source": [
    "import pandas as pd\n",
    "import numpy as np"
   ]
  },
  {
   "cell_type": "code",
   "execution_count": 317,
   "id": "b9dc0812",
   "metadata": {},
   "outputs": [
    {
     "name": "stdout",
     "output_type": "stream",
     "text": [
      "[ 0.0472 -0.0131 -0.0168  0.0296  0.0654  0.0601 -0.0112 -0.0278 -0.0073\n",
      "  0.0821 -0.0113 -0.0064  0.0077 -0.0531  0.0286 -0.0241 -0.0106  0.0175\n",
      " -0.0201  0.0105  0.0071 -0.048  -0.0357 -0.0335  0.0548 -0.0289  0.0033\n",
      "  0.0263 -0.0455  0.0062 -0.004  -0.0126  0.0395 -0.006   0.003   0.1588\n",
      " -0.0631  0.0273  0.123   0.1659  0.0317 -0.0076  0.0419  0.0376  0.0612\n",
      "  0.0672  0.0338 -0.0071  0.0077  0.0335  0.0968  0.1393  0.1359 -0.0076\n",
      " -0.0088  0.0402 -0.055   0.0751  0.0496  0.1096]\n"
     ]
    }
   ],
   "source": [
    "benchmark_df = pd.read_csv(\"kse100.csv\", usecols=[\"Return\"])\n",
    "benchmark_returns = np.array(benchmark_df[\"Return\"])\n",
    "print(benchmark_returns)"
   ]
  },
  {
   "cell_type": "code",
   "execution_count": 318,
   "id": "7392a71e",
   "metadata": {},
   "outputs": [
    {
     "name": "stdout",
     "output_type": "stream",
     "text": [
      "0.5969457198568304\n"
     ]
    }
   ],
   "source": [
    "mean_weights = [0.5, 0.5]\n",
    "stag_weights = [0.9, 0.1]\n",
    "growth_weights = [0.1, 0.9]\n",
    "\n",
    "def fitness(returns, periods=[(24, 36), (48, 60)], weights=mean_weights):\n",
    "    \"\"\"\n",
    "        For each period calculates average returns divided by standard deviation of returns.\n",
    "        Then returns the average of the two periods.\n",
    "    \"\"\"\n",
    "    period_fitness = []\n",
    "    for start, end in periods:\n",
    "        period_returns = returns[start:end]\n",
    "        avg_return = np.mean(period_returns)\n",
    "        std_return = np.std(period_returns)\n",
    "        period_fitness.append(avg_return / std_return) # if std_return != 0 else 0\n",
    "    return (period_fitness[0] * weights[0]) + (period_fitness[1] * weights[1])\n",
    "print(fitness(benchmark_returns))"
   ]
  },
  {
   "cell_type": "code",
   "execution_count": 319,
   "id": "e8da80d1",
   "metadata": {},
   "outputs": [
    {
     "name": "stdout",
     "output_type": "stream",
     "text": [
      "1.4930503760657379\n"
     ]
    }
   ],
   "source": [
    "def total_money(returns, periods=[(24, 36), (48, 60)], weights=mean_weights):\n",
    "    \"\"\"\n",
    "        Calculates the investment growth over each period and returns the weighted sum of the two periods.\n",
    "    \"\"\"\n",
    "    totals = []\n",
    "    for start, end in periods:\n",
    "        period_returns = returns[start:end]\n",
    "        total = 1.0\n",
    "        for r in period_returns:\n",
    "            total *= (1.0 + r)\n",
    "        totals.append(total)\n",
    "    return (totals[0] * weights[0]) + (totals[1] * weights[1])\n",
    "print(total_money(benchmark_returns))"
   ]
  },
  {
   "cell_type": "code",
   "execution_count": 320,
   "id": "7cd6d3fd",
   "metadata": {},
   "outputs": [
    {
     "name": "stdout",
     "output_type": "stream",
     "text": [
      "0.05482661243005586\n"
     ]
    }
   ],
   "source": [
    "def total_risk(returns, periods=[(24, 36), (48, 60)], weights=mean_weights):\n",
    "    \"\"\"\n",
    "        Calculates the total risk (standard deviation of returns) over each period and returns the weighted sum of the two periods.\n",
    "    \"\"\"\n",
    "    risks = []\n",
    "    for start, end in periods:\n",
    "        period_returns = returns[start:end]\n",
    "        risk = np.var(period_returns)\n",
    "        risks.append(risk)\n",
    "    return np.sqrt((risks[0] * weights[0]) + (risks[1] * weights[1]))\n",
    "print(total_risk(benchmark_returns))"
   ]
  },
  {
   "cell_type": "code",
   "execution_count": 321,
   "id": "c086d93c",
   "metadata": {},
   "outputs": [],
   "source": [
    "def get_stock_returns(file_path):\n",
    "    \"\"\"\n",
    "        The returns csv has a stock symbol column and 60 columns for returns.\n",
    "        This function reads the csv and returns a dframe with stock symbols as index.\n",
    "    \"\"\"\n",
    "    df = pd.read_csv(file_path)\n",
    "    df.set_index(\"stock\", inplace=True)\n",
    "    return df\n",
    "stock_returns_df = get_stock_returns(\"returns.csv\")\n",
    "returns_array = np.array(stock_returns_df)"
   ]
  },
  {
   "cell_type": "code",
   "execution_count": 322,
   "id": "0de35cb4",
   "metadata": {},
   "outputs": [
    {
     "name": "stdout",
     "output_type": "stream",
     "text": [
      "[ 0.01858913 -0.10528779 -0.06276151  0.02287946  0.06819422  0.07354443\n",
      "  0.14652712  0.30082988 -0.09665072  0.17655367  0.05552221 -0.04577765\n",
      "  0.41716329  0.04941127 -0.02825085  0.07670103 -0.01761777 -0.04132554\n",
      " -0.10329402  0.11020408 -0.01940359 -0.06269527 -0.06666667  0.03571429\n",
      "  0.14482759  0.02409639  0.06078431 -0.05914972 -0.03732809 -0.00102041\n",
      "  0.00102145 -0.06122449 -0.04347826 -0.11318182 -0.01973347  0.04444444\n",
      " -0.06132666  0.11946667 -0.13935207  0.02435649  0.0094569  -0.04175589\n",
      " -0.06145251 -0.0327381   0.03076923  0.08597015 -0.03628367  0.14632059\n",
      "  0.03508335  0.00673077 -0.06876791  0.45717949  0.05349287  0.08819108\n",
      " -0.13046815  0.14651368 -0.09160893  0.10627119 -0.0140953   0.17031857]\n"
     ]
    }
   ],
   "source": [
    "# Get index of a stock symbol from the dataframe\n",
    "stock_symbol = \"JVDC\"\n",
    "stock_index = stock_returns_df.index.get_loc(stock_symbol)\n",
    "# print(f\"Index of {stock_symbol}: {stock_index}\")\n",
    "print(returns_array[stock_index])"
   ]
  },
  {
   "cell_type": "code",
   "execution_count": 323,
   "id": "2f41c288",
   "metadata": {},
   "outputs": [
    {
     "data": {
      "application/vnd.microsoft.datawrangler.viewer.v0+json": {
       "columns": [
        {
         "name": "index",
         "rawType": "int64",
         "type": "integer"
        },
        {
         "name": "Portfolio",
         "rawType": "object",
         "type": "string"
        },
        {
         "name": "Stock",
         "rawType": "object",
         "type": "string"
        },
        {
         "name": "Weight",
         "rawType": "float64",
         "type": "float"
        }
       ],
       "ref": "d6de4c31-d251-4761-a255-0e66bb71179f",
       "rows": [
        [
         "0",
         "roulette_unsorted_stag",
         "JVDC",
         "0.2029726030427493"
        ],
        [
         "1",
         "roulette_unsorted_stag",
         "JDWS",
         "0.1887409998520045"
        ],
        [
         "2",
         "roulette_unsorted_stag",
         "SCBPL",
         "0.1122461935021616"
        ],
        [
         "3",
         "roulette_unsorted_stag",
         "SAZEW",
         "0.1061542872269939"
        ],
        [
         "4",
         "roulette_unsorted_stag",
         "PTC",
         "0.0545973471864635"
        ]
       ],
       "shape": {
        "columns": 3,
        "rows": 5
       }
      },
      "text/html": [
       "<div>\n",
       "<style scoped>\n",
       "    .dataframe tbody tr th:only-of-type {\n",
       "        vertical-align: middle;\n",
       "    }\n",
       "\n",
       "    .dataframe tbody tr th {\n",
       "        vertical-align: top;\n",
       "    }\n",
       "\n",
       "    .dataframe thead th {\n",
       "        text-align: right;\n",
       "    }\n",
       "</style>\n",
       "<table border=\"1\" class=\"dataframe\">\n",
       "  <thead>\n",
       "    <tr style=\"text-align: right;\">\n",
       "      <th></th>\n",
       "      <th>Portfolio</th>\n",
       "      <th>Stock</th>\n",
       "      <th>Weight</th>\n",
       "    </tr>\n",
       "  </thead>\n",
       "  <tbody>\n",
       "    <tr>\n",
       "      <th>0</th>\n",
       "      <td>roulette_unsorted_stag</td>\n",
       "      <td>JVDC</td>\n",
       "      <td>0.202973</td>\n",
       "    </tr>\n",
       "    <tr>\n",
       "      <th>1</th>\n",
       "      <td>roulette_unsorted_stag</td>\n",
       "      <td>JDWS</td>\n",
       "      <td>0.188741</td>\n",
       "    </tr>\n",
       "    <tr>\n",
       "      <th>2</th>\n",
       "      <td>roulette_unsorted_stag</td>\n",
       "      <td>SCBPL</td>\n",
       "      <td>0.112246</td>\n",
       "    </tr>\n",
       "    <tr>\n",
       "      <th>3</th>\n",
       "      <td>roulette_unsorted_stag</td>\n",
       "      <td>SAZEW</td>\n",
       "      <td>0.106154</td>\n",
       "    </tr>\n",
       "    <tr>\n",
       "      <th>4</th>\n",
       "      <td>roulette_unsorted_stag</td>\n",
       "      <td>PTC</td>\n",
       "      <td>0.054597</td>\n",
       "    </tr>\n",
       "  </tbody>\n",
       "</table>\n",
       "</div>"
      ],
      "text/plain": [
       "                Portfolio  Stock    Weight\n",
       "0  roulette_unsorted_stag   JVDC  0.202973\n",
       "1  roulette_unsorted_stag   JDWS  0.188741\n",
       "2  roulette_unsorted_stag  SCBPL  0.112246\n",
       "3  roulette_unsorted_stag  SAZEW  0.106154\n",
       "4  roulette_unsorted_stag    PTC  0.054597"
      ]
     },
     "execution_count": 323,
     "metadata": {},
     "output_type": "execute_result"
    }
   ],
   "source": [
    "portfolios_df = pd.read_csv(\"portfolios.csv\") # Portfolio, Stock, Weight\n",
    "portfolios_df.head()"
   ]
  },
  {
   "cell_type": "code",
   "execution_count": 324,
   "id": "e532d3f2",
   "metadata": {},
   "outputs": [],
   "source": [
    "def get_portfolio_returns(portfolio_id):\n",
    "    \"\"\"\n",
    "        Given a portfolio id, returns the weighted returns of the portfolio.\n",
    "    \"\"\"\n",
    "    portfolio = portfolios_df[portfolios_df[\"Portfolio\"] == portfolio_id]\n",
    "    portfolio_returns = np.zeros(60)\n",
    "    for _, row in portfolio.iterrows():\n",
    "        stock_symbol = row[\"Stock\"]\n",
    "        weight = row[\"Weight\"]\n",
    "        stock_index = stock_returns_df.index.get_loc(stock_symbol)\n",
    "        stock_returns = returns_array[stock_index]\n",
    "        portfolio_returns += weight * stock_returns\n",
    "    return portfolio_returns"
   ]
  },
  {
   "cell_type": "code",
   "execution_count": 325,
   "id": "1049f069",
   "metadata": {},
   "outputs": [
    {
     "data": {
      "text/plain": [
       "array([ 0.04427284, -0.02474135,  0.02267116,  0.01172384,  0.04754346,\n",
       "        0.03667274,  0.03650854,  0.03096718, -0.01664114,  0.07446628,\n",
       "        0.01511889,  0.01654286,  0.07573206, -0.0282499 ,  0.03057083,\n",
       "       -0.01975887, -0.01831499,  0.0533708 , -0.06018662,  0.02344289,\n",
       "       -0.01382979, -0.03181775, -0.07360286,  0.02634061,  0.05854907,\n",
       "       -0.01585766,  0.0868172 ,  0.02743129, -0.03087456, -0.02518057,\n",
       "       -0.00125753, -0.04727987,  0.02878813, -0.01099423, -0.02035432,\n",
       "        0.13428055, -0.03176553,  0.07332399,  0.08845411,  0.07521275,\n",
       "        0.07313379,  0.04463875,  0.0547893 ,  0.07183239,  0.12540987,\n",
       "        0.09534796,  0.00245901,  0.06395517,  0.00220275, -0.01736943,\n",
       "        0.0514079 ,  0.14185236,  0.13281898,  0.04669121, -0.01970383,\n",
       "        0.02614577, -0.02808199,  0.06571775,  0.00697066,  0.10322099])"
      ]
     },
     "execution_count": 325,
     "metadata": {},
     "output_type": "execute_result"
    }
   ],
   "source": [
    "get_portfolio_returns(\"roulette_unsorted_stag\")"
   ]
  },
  {
   "cell_type": "code",
   "execution_count": 326,
   "id": "b49bdd91",
   "metadata": {},
   "outputs": [],
   "source": [
    "mean_weights = [0.5, 0.5]\n",
    "stag_weights = [0.95, 0.05]\n",
    "growth_weights = [0.05, 0.95]"
   ]
  },
  {
   "cell_type": "code",
   "execution_count": 327,
   "id": "db9450bc",
   "metadata": {},
   "outputs": [],
   "source": [
    "def summarize_portfolios():\n",
    "    \"\"\"\n",
    "        Summarizes all portfolios by calculating their fitness.\n",
    "    \"\"\"\n",
    "    portfolio_ids = portfolios_df[\"Portfolio\"].unique()\n",
    "    summary = []\n",
    "    for pid in portfolio_ids:\n",
    "        returns = get_portfolio_returns(pid)\n",
    "        # Mean\n",
    "        fit = fitness(returns)\n",
    "        tm = total_money(returns)\n",
    "        tr = total_risk(returns)\n",
    "        leaning = \"Mean\"\n",
    "        summary.append((pid, fit, tm, tr, leaning))\n",
    "        # Stag\n",
    "        fit = fitness(returns, weights=stag_weights)\n",
    "        tm = total_money(returns, weights=stag_weights)\n",
    "        tr = total_risk(returns, weights=stag_weights)\n",
    "        leaning = \"Stag\"\n",
    "        summary.append((pid, fit, tm, tr, leaning))\n",
    "        # Growth\n",
    "        fit = fitness(returns, weights=growth_weights)\n",
    "        tm = total_money(returns, weights=growth_weights)\n",
    "        tr = total_risk(returns, weights=growth_weights)\n",
    "        leaning = \"Growth\"\n",
    "        summary.append((pid, fit, tm, tr, leaning))\n",
    "    summary_df = pd.DataFrame(summary, columns=[\"Portfolio\", \"Fitness\", \"Total Money\", \"Total Risk\", \"Leaning\"])\n",
    "    return summary_df"
   ]
  },
  {
   "cell_type": "code",
   "execution_count": 328,
   "id": "adbfffee",
   "metadata": {},
   "outputs": [
    {
     "name": "stdout",
     "output_type": "stream",
     "text": [
      "Mean: roulette_unsorted_growth 0.5311253819866123 1.405330521430784 0.05629481771674338\n",
      "Stag: tournament_unsorted_growth 0.36875645438524374 1.228210358153302 0.050023994233833934\n",
      "Growth: roulette_sorted_stag 0.8735149387261573 1.6731992716379098 0.05113017766196322\n"
     ]
    }
   ],
   "source": [
    "# Find the top portfolio for each leaning by money\n",
    "summary_df = summarize_portfolios()\n",
    "summary_df.sort_values(by=\"Total Money\", ascending=False, inplace=True)\n",
    "top_mean = summary_df[summary_df[\"Leaning\"] == \"Mean\"].iloc[0]\n",
    "top_stag = summary_df[summary_df[\"Leaning\"] == \"Stag\"].iloc[0]\n",
    "top_growth = summary_df[summary_df[\"Leaning\"] == \"Growth\"].iloc[0]\n",
    "print(\"Mean:\", top_mean.Portfolio, top_mean.Fitness, top_mean[\"Total Money\"], top_mean[\"Total Risk\"])\n",
    "print(\"Stag:\", top_stag.Portfolio, top_stag.Fitness, top_stag[\"Total Money\"], top_stag[\"Total Risk\"])\n",
    "print(\"Growth:\", top_growth.Portfolio, top_growth.Fitness, top_growth[\"Total Money\"], top_growth[\"Total Risk\"])"
   ]
  },
  {
   "cell_type": "code",
   "execution_count": 329,
   "id": "a22ccd34",
   "metadata": {},
   "outputs": [
    {
     "name": "stdout",
     "output_type": "stream",
     "text": [
      "Mean: tournament_unsorted_growth 0.5636926418146831 1.366913916348612 0.048588832748663\n",
      "Stag: tournament_unsorted_growth 0.36875645438524374 1.228210358153302 0.050023994233833934\n",
      "Growth: roulette_sorted_stag 0.8735149387261573 1.6731992716379098 0.05113017766196322\n"
     ]
    }
   ],
   "source": [
    "# Find the top portfolio for each leaning by fitness\n",
    "summary_df.sort_values(by=\"Fitness\", ascending=False, inplace=True)\n",
    "top_mean = summary_df[summary_df[\"Leaning\"] == \"Mean\"].iloc[0]\n",
    "top_stag = summary_df[summary_df[\"Leaning\"] == \"Stag\"].iloc[0]\n",
    "top_growth = summary_df[summary_df[\"Leaning\"] == \"Growth\"].iloc[0]\n",
    "print(\"Mean:\", top_mean.Portfolio, top_mean.Fitness, top_mean[\"Total Money\"], top_mean[\"Total Risk\"])\n",
    "print(\"Stag:\", top_stag.Portfolio, top_stag.Fitness, top_stag[\"Total Money\"], top_stag[\"Total Risk\"])\n",
    "print(\"Growth:\", top_growth.Portfolio, top_growth.Fitness, top_growth[\"Total Money\"], top_growth[\"Total Risk\"])"
   ]
  },
  {
   "cell_type": "code",
   "execution_count": 330,
   "id": "69e7c966",
   "metadata": {},
   "outputs": [
    {
     "name": "stdout",
     "output_type": "stream",
     "text": [
      "Mean: tournament_sorted_stag 0.43907047160828744 1.2958760365988427 0.04328274946015426\n",
      "Stag: tournament_sorted_growth 0.1444723975350181 1.0647614915928434 0.035924156542419185\n",
      "Growth: tournament_unsorted_stag 0.5941077567927199 1.3168978115982972 0.042805459919694235\n"
     ]
    }
   ],
   "source": [
    "# Find the top portfolio for each leaning by low-risk\n",
    "summary_df.sort_values(by=\"Total Risk\", ascending=True, inplace=True)\n",
    "top_mean = summary_df[summary_df[\"Leaning\"] == \"Mean\"].iloc[0]\n",
    "top_stag = summary_df[summary_df[\"Leaning\"] == \"Stag\"].iloc[0]\n",
    "top_growth = summary_df[summary_df[\"Leaning\"] == \"Growth\"].iloc[0]\n",
    "print(\"Mean:\", top_mean.Portfolio, top_mean.Fitness, top_mean[\"Total Money\"], top_mean[\"Total Risk\"])\n",
    "print(\"Stag:\", top_stag.Portfolio, top_stag.Fitness, top_stag[\"Total Money\"], top_stag[\"Total Risk\"])\n",
    "print(\"Growth:\", top_growth.Portfolio, top_growth.Fitness, top_growth[\"Total Money\"], top_growth[\"Total Risk\"])"
   ]
  },
  {
   "cell_type": "code",
   "execution_count": null,
   "id": "85b045a2",
   "metadata": {},
   "outputs": [
    {
     "name": "stdout",
     "output_type": "stream",
     "text": [
      "Weights: [0.5, 0.5]\n",
      "Benchmark - Fitness: 0.5969457198568304 Total Money: 1.4930503760657379 Total Risk: 0.05482661243005586\n",
      "Weights: [0.95, 0.05]\n",
      "Benchmark - Fitness: 0.349726478711617 Total Money: 1.2260546658170037 Total Risk: 0.050859668997699496\n",
      "Weights: [0.05, 0.95]\n",
      "Benchmark - Fitness: 0.8441649610020437 Total Money: 1.7600460863144718 Total Risk: 0.05852528454057746\n"
     ]
    }
   ],
   "source": [
    "# Compare with benchmark\n",
    "for weights in [mean_weights, stag_weights, growth_weights]:\n",
    "    print(\"Weights:\", weights)\n",
    "    print(\"Benchmark - Fitness:\", fitness(benchmark_returns, weights=weights), \n",
    "          \"Total Money:\", total_money(benchmark_returns, weights=weights), \n",
    "          \"Total Risk:\", total_risk(benchmark_returns, weights=weights))"
   ]
  }
 ],
 "metadata": {
  "kernelspec": {
   "display_name": ".venv (3.13.7)",
   "language": "python",
   "name": "python3"
  },
  "language_info": {
   "codemirror_mode": {
    "name": "ipython",
    "version": 3
   },
   "file_extension": ".py",
   "mimetype": "text/x-python",
   "name": "python",
   "nbconvert_exporter": "python",
   "pygments_lexer": "ipython3",
   "version": "3.13.7"
  }
 },
 "nbformat": 4,
 "nbformat_minor": 5
}
